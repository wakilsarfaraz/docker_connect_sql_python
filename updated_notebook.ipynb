{
 "cells": [
  {
   "cell_type": "code",
   "execution_count": null,
   "id": "abf19283",
   "metadata": {
    "section": "libraries_and_logging"
   },
   "outputs": [],
   "source": [
    "import pyodbc\n",
    "import pandas as pd\n",
    "import os\n",
    "import shutil\n",
    "import logging\n",
    "import getpass\n",
    "\n",
    "logging.basicConfig(level=logging.INFO, \n",
    "                    format='%(asctime)s - %(levelname)s - %(message)s',\n",
    "                    handlers=[\n",
    "                        logging.FileHandler(\"etl_pipeline.log\"),\n",
    "                        logging.StreamHandler()\n",
    "                    ])"
   ]
  },
  {
   "cell_type": "code",
   "execution_count": null,
   "id": "38fe915b",
   "metadata": {
    "section": "clear_folder"
   },
   "outputs": [],
   "source": [
    "def clear_folder(folder_path):\n",
    "    '''\n",
    "    docstring for clear_folder() first change\n",
    "    '''\n",
    "    logging.info(f\"Starting to clear the contents of folder: {folder_path}\")\n",
    "    try:\n",
    "        for item in os.listdir(folder_path):\n",
    "            item_path = os.path.join(folder_path, item)\n",
    "            if os.path.isfile(item_path) or os.path.islink(item_path):\n",
    "                os.unlink(item_path)\n",
    "            elif os.path.isdir(item_path):\n",
    "                shutil.rmtree(item_path)\n",
    "        logging.info(f\"Contents of folder {folder_path} have been cleared.\")\n",
    "    except Exception as e:\n",
    "        logging.error(f\"Error while clearing folder {folder_path}: {e}\")"
   ]
  },
  {
   "cell_type": "code",
   "execution_count": null,
   "id": "6a997fa5",
   "metadata": {
    "section": "manage_tables"
   },
   "outputs": [],
   "source": [
    "def manage_tables(connection_string):\n",
    "    '''\n",
    "    docstring for cmanage_tables() first change\n",
    "    '''\n",
    "    logging.info(\"Starting to manage tables in the database.\")\n",
    "    try:\n",
    "        connection = pyodbc.connect(connection_string)\n",
    "        cursor = connection.cursor()\n",
    "        drop_payment_table_file = os.path.join('sqlFiles/tableManagement', 'drop_payment_summary_table.sql')\n",
    "        drop_duration_table_file = os.path.join('sqlFiles/tableManagement', 'drop_duration_summary_table.sql')\n",
    "        drop_profitable_table_file = os.path.join('sqlFiles/tableManagement','drop_profitable_actors_table.sql')\n",
    "        create_payment_table_file = os.path.join('sqlFiles/tableManagement', 'create_payment_summary_table.sql')\n",
    "        create_duration_table_file = os.path.join('sqlFiles/tableManagement', 'create_duration_summary_table.sql')\n",
    "        create_profitable_actors_table_file = os.path.join('sqlFiles/tableManagement','create_profitable_actors_table.sql')\n",
    "        def execute_sql_file(file_path):\n",
    "            with open(file_path, 'r') as file:\n",
    "                sql = file.read()\n",
    "                cursor.execute(sql)\n",
    "        execute_sql_file(drop_payment_table_file)\n",
    "        execute_sql_file(drop_duration_table_file)\n",
    "        execute_sql_file(drop_profitable_table_file)\n",
    "        connection.commit()\n",
    "        execute_sql_file(create_payment_table_file)\n",
    "        execute_sql_file(create_duration_table_file)\n",
    "        execute_sql_file(create_profitable_actors_table_file)\n",
    "        connection.commit()\n",
    "        logging.info(\"Tables:\\n\\n                                         payment_summary_table\\n\"         \n",
    "                     \"                                         duration_summary_table\\n\"\n",
    "                     \"                                         profitable_actors_table \\n\\n\"\n",
    "                     \"                                 have been recreated in the database.\")\n",
    "    except pyodbc.Error as e:\n",
    "        logging.error(f\"Error managing tables: {e}\")\n",
    "    except FileNotFoundError as e:\n",
    "        logging.error(f\"SQL file not found: {e}\")\n",
    "    finally:\n",
    "        if 'connection' in locals() and connection:\n",
    "            connection.close()"
   ]
  },
  {
   "cell_type": "code",
   "execution_count": null,
   "id": "df4dcd10",
   "metadata": {
    "section": "calculate_payments"
   },
   "outputs": [],
   "source": [
    "def calculate_payments(sql_file_path, connection_string):\n",
    "    '''\n",
    "    docstring for calculate_payments() first change\n",
    "    '''\n",
    "    logging.info(\"Starting to calculate payments summary.\")\n",
    "    try:\n",
    "        connection = pyodbc.connect(connection_string)\n",
    "        cursor = connection.cursor()\n",
    "        with open(sql_file_path, 'r') as file:\n",
    "            sql_query = file.read()\n",
    "        cursor.execute(sql_query)\n",
    "        rows = cursor.fetchall()\n",
    "        payments_summary = pd.DataFrame((tuple(t) for t in rows)) \n",
    "        payments_summary.columns = ['Records', 'Minimum', 'Maximum', 'Total', 'Average']\n",
    "        logging.info(\"Payments summary successfully retrieved.\")\n",
    "    except pyodbc.Error as e:\n",
    "        logging.error(f\"Error executing payments query: {e}\")\n",
    "    finally:\n",
    "        if 'connection' in locals() and connection:\n",
    "            connection.close()\n",
    "    return payments_summary"
   ]
  },
  {
   "cell_type": "code",
   "execution_count": null,
   "id": "e21a3aff",
   "metadata": {
    "section": "calculate_duration"
   },
   "outputs": [],
   "source": [
    "def calculate_duration(sql_file_path, connection_string):\n",
    "    logging.info(\"Starting to calculate duration summary.\")\n",
    "    try:\n",
    "        connection = pyodbc.connect(connection_string)\n",
    "        cursor = connection.cursor()\n",
    "        with open(sql_file_path, 'r') as file:\n",
    "            sql_query = file.read()\n",
    "        cursor.execute(sql_query)\n",
    "        rows = cursor.fetchall()\n",
    "        duration_summary = pd.DataFrame((tuple(t) for t in rows)) \n",
    "        duration_summary.columns = ['Minimum', 'Maximum', 'Total', 'Average']\n",
    "        logging.info(\"Duration summary successfully retrieved.\")\n",
    "    except pyodbc.Error as e:\n",
    "        logging.error(f\"Error executing duration query: {e}\")\n",
    "    finally:\n",
    "        if 'connection' in locals() and connection:\n",
    "            connection.close()\n",
    "    return duration_summary"
   ]
  },
  {
   "cell_type": "code",
   "execution_count": null,
   "id": "93f02ada",
   "metadata": {
    "section": "calculate_profitable_actors"
   },
   "outputs": [],
   "source": [
    "def calculate_profitable_actors(sql_file_path, connection_string):\n",
    "    logging.info(\"Starting to calculate profitable actors.\")\n",
    "    try:\n",
    "        connection = pyodbc.connect(connection_string)\n",
    "        cursor = connection.cursor()\n",
    "        with open(sql_file_path, 'r') as file:\n",
    "            sql_query = file.read()\n",
    "        cursor.execute(sql_query)\n",
    "        rows = cursor.fetchall()\n",
    "        profitable_actors = pd.DataFrame((tuple(t) for t in rows)) \n",
    "        profitable_actors.columns = ['ActorID', 'FirstName', 'LastName', 'TotalSale']\n",
    "        logging.info(\"Profitable actors successfully retrieved.\")\n",
    "    except pyodbc.Error as e:\n",
    "        logging.error(f\"Error executing duration query: {e}\")\n",
    "    finally:\n",
    "        if 'connection' in locals() and connection:\n",
    "            connection.close()\n",
    "    return profitable_actors"
   ]
  },
  {
   "cell_type": "code",
   "execution_count": null,
   "id": "18e0e15d",
   "metadata": {
    "section": "write_dataframe_to_db"
   },
   "outputs": [],
   "source": [
    "def write_dataframe_to_db(dataframe, table_name, connection_string):\n",
    "    logging.info(f\"Starting to write DataFrame to table: {table_name}\")\n",
    "    try:\n",
    "        connection = pyodbc.connect(connection_string)\n",
    "        cursor = connection.cursor()\n",
    "        # Insert rows into the database\n",
    "        for index, row in dataframe.iterrows():\n",
    "            placeholders = ', '.join(['?'] * len(row))\n",
    "            columns = ', '.join(dataframe.columns)\n",
    "            sql = f\"INSERT INTO {table_name} ({columns}) VALUES ({placeholders})\"\n",
    "            cursor.execute(sql, tuple(row))\n",
    "        connection.commit()\n",
    "        logging.info(f\"Data successfully written to table: {table_name}.\")\n",
    "    except pyodbc.Error as e:\n",
    "        logging.error(f\"Error writing to database table {table_name}: {e}\")\n",
    "    finally:\n",
    "        if 'connection' in locals() and connection:\n",
    "            connection.close()"
   ]
  },
  {
   "cell_type": "code",
   "execution_count": null,
   "id": "05ef71ce",
   "metadata": {
    "section": "write_local_txt_output"
   },
   "outputs": [],
   "source": [
    "def write_local_txt_output(dataframe, folder_path, file_name):\n",
    "    logging.info(f\"Starting to write DataFrame to text file: {file_name}\")\n",
    "    try:\n",
    "        os.makedirs(folder_path, exist_ok=True)\n",
    "        file_path = os.path.join(folder_path, file_name)\n",
    "        dataframe.to_csv(file_path, sep='\\t', index=False)\n",
    "        logging.info(f\"Processed data successfully written to {file_path}\")\n",
    "        return file_path\n",
    "    except Exception as e:\n",
    "        logging.error(f\"An error occurred while writing to text file {file_name}: {e}\")\n",
    "        return None"
   ]
  },
  {
   "cell_type": "code",
   "execution_count": null,
   "id": "6d0172be",
   "metadata": {
    "section": "main_script"
   },
   "outputs": [],
   "source": [
    "# Main block starts here\n",
    "\n",
    "if __name__ == \"__main__\":\n",
    "    server = input(\"Please enter the SQL Server address (hint: starts with tcp and ends with .net): \").strip()\n",
    "    username = input(\"Please enter your Username:\").strip()\n",
    "    password = getpass.getpass(\"Please enter your Password: \").strip()\n",
    "    connection_string =   str(\n",
    "    f\"Driver={{ODBC Driver 18 for SQL Server}};\"\n",
    "    f\"Server={server},1433;\"\n",
    "    f\"Database=sakila;\"\n",
    "    f\"Uid={username};\"\n",
    "    f\"Pwd={password};\"\n",
    "    f\"Encrypt=yes;TrustServerCertificate=no;Connection Timeout=30;\")\n",
    "    target_folder = \"reports\"\n",
    "    clear_folder(target_folder)\n",
    "    manage_tables(connection_string)\n",
    "    payments_df = calculate_payments(\"sqlFiles/queries/payments.sql\", connection_string)\n",
    "    duration_df = calculate_duration(\"sqlFiles/queries/filmduration.sql\", connection_string)\n",
    "    profitable_actors_df = calculate_profitable_actors(\"sqlFiles/queries/profitable_actors.sql\", connection_string)\n",
    "    write_dataframe_to_db(payments_df, \"payment_summary_table\", connection_string)\n",
    "    write_dataframe_to_db(duration_df, \"duration_summary_table\", connection_string)\n",
    "    write_dataframe_to_db(profitable_actors_df,\"profitable_actors_table\", connection_string)\n",
    "    write_local_txt_output(payments_df, \"reports\", \"payment_summary.txt\")\n",
    "    write_local_txt_output(duration_df, \"reports\", \"duration_summary.txt\")\n",
    "    write_local_txt_output(profitable_actors_df, \"reports\", \"profitable_actors.txt\")"
   ]
  }
 ],
 "metadata": {},
 "nbformat": 4,
 "nbformat_minor": 5
}
